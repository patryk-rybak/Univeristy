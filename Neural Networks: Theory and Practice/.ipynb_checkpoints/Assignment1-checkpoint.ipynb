{
 "cells": [
  {
   "cell_type": "markdown",
   "metadata": {
    "cell_id": "00001-caefeb56-f9c5-4f9e-a096-b89246dc63d7",
    "deepnote_app_coordinates": {
     "h": 5,
     "w": 12,
     "x": 0,
     "y": 6
    },
    "deepnote_cell_type": "markdown",
    "id": "CGXgWugfJ0Vl"
   },
   "source": [
    "## Assignment 1\n",
    "\n",
    "**Submission deadlines:** \n",
    "- get at least **2** points by Tuesday, 27.02.2024\n",
    "- remaining points: last lab session before or on Tuesday, 05.03.2023\n",
    "\n",
    "**Points:** Aim to get 8 out of 14 possible points\n",
    "\n",
    "## Submission instructions\n",
    "The class is held on-site in lab rooms. Please prepare you notebook on your computer or anywhere in the cloud (try using DeepNote or Google Colab).\n",
    "\n",
    "Make sure you know all the questions and asnwers, and that the notebook contains results; before presentation do `Runtime -> Restart and run all`\n",
    "![Picture title](image-20220302-183151.png)\n",
    "\n",
    "We provide starter code, however you are not required to use it as long as you properly solve the tasks.\n"
   ]
  },
  {
   "cell_type": "markdown",
   "metadata": {
    "cell_id": "00002-c92cc86e-f65f-4e16-9124-9ca4d4265c88",
    "deepnote_app_coordinates": {
     "h": 5,
     "w": 12,
     "x": 0,
     "y": 12
    },
    "deepnote_cell_type": "markdown",
    "id": "5S8iRaCPyO2a"
   },
   "source": [
    "# Task description\n",
    "\n",
    "## TLDR\n",
    "Implement and train a neural network using pure `torch`."
   ]
  },
  {
   "cell_type": "markdown",
   "metadata": {
    "cell_id": "00003-1893a0a0-4515-4960-bce8-37f660543eea",
    "deepnote_app_coordinates": {
     "h": 5,
     "w": 12,
     "x": 0,
     "y": 18
    },
    "deepnote_cell_type": "markdown",
    "id": "JHcz7I2V-bVM"
   },
   "source": [
    "\n",
    "## Problem 1 [2p]\n",
    "Implement a two-layer network, manually set weights and biases to solve the XOR task.\n",
    "\n",
    "A two-layer neural network implementes a function $f: \\mathbb{R}^D \\rightarrow \\mathbb{R}^O$ where $D$ is the input dimensionality and $O$ is the output dinemsionality. The output goes through an intermediate representation (the hidden layer) with dimensionality $H$. \n",
    "\n",
    "The computations are as follows:\n",
    "$$\n",
    "\\begin{aligned}\n",
    "A_1 &= x W_1^T + b_1  & \\qquad\\text{Total input to neurons in the hidden layer (network's first layer)} \\\\\n",
    "O_1 &= \\sigma_1(A_1)  & \\qquad\\text{Output of the hidden layer} \\\\\n",
    "A_2 &= O_1 W_2^T + b_2 & \\qquad\\text{Total input to neurons in the output layer (network's second layer)}\\\\\n",
    "O_2 &= \\sigma_2(A_2)  & \\qquad\\text{Output of the network}\n",
    "\\end{aligned}\n",
    "$$\n",
    "\n",
    "Where $W$ are weight matrices, $b$ are bias vectors, $\\sigma$ are non-linear activation functions (e.g. the logistic sigmoid applied element-wise, or softmax).\n",
    "\n",
    "For the 2D xor problem the network will:\n",
    "- have 2 inputs, 2 hidden neurons, one output\n",
    "- use the logistic sigmoid everywhere (that way we, when hand-designig the weights, we can assume that neurons' outputs are binary).\n",
    "\n",
    "Therrefore the shapes of the data flowing through the network will be:\n",
    "- input: $x\\in\\mathbb{}R^{2}$\n",
    "- hidden layer parameters: $W_1\\in\\mathbb{}R^{2\\times 2}$ and $b_1\\in\\mathbb{}R^{2}$\n",
    "- representations in the hidden layer: $A_1\\in\\mathbb{}R^{2}$ and $O_1\\in\\mathbb{}R^{2}$\n",
    "- output layer parameters: $W_2\\in\\mathbb{}R^{1\\times 2}$ and $b_2\\in\\mathbb{}R^{1}$\n",
    "- representations in the output layer: $A_2\\in\\mathbb{}R^{1}$ and $O_2\\in\\mathbb{}R^{1}$\n",
    "\n",
    "The network can be seen as a logistic regression model, prefixed by a nonlinear transformation of the data.\n",
    "\n",
    "The first tasks consists of:\n",
    "- implementing the network\n",
    "- selecting parametwrs ($W_1, b_1, W_2, b_2$) such that $f(x)\\approx XOR(x_1, x_2)$ where the approximation is die to the sigmoids - the output may be close to 0 or 1, but doesn't need to saturate at 0 or 1.\n",
    "\n",
    "NB: the convention on weight matrix shapes follows linear [layers in PyTorch](https://pytorch.org/docs/stable/generated/torch.nn.Linear.html).\n"
   ]
  },
  {
   "cell_type": "markdown",
   "metadata": {
    "cell_id": "00004-0d502510-cfd1-44da-b88c-da6aaf275617",
    "deepnote_app_coordinates": {
     "h": 5,
     "w": 12,
     "x": 0,
     "y": 24
    },
    "deepnote_cell_type": "markdown",
    "id": "0QSpZxuH-bLe"
   },
   "source": [
    "## Problem 2 [2p]\n",
    "1. Add a backward pass.\n",
    "2. Use a sensible random initialization for weights and biases.\n",
    "3. Numerically check the correctness of your gradient computation.\n",
    "\n",
    "There is nice article about taking derivative over vectors and vector chain rule: https://explained.ai/matrix-calculus/ if someone don't have experience with such calculus.\n"
   ]
  },
  {
   "cell_type": "markdown",
   "metadata": {
    "cell_id": "00005-96083315-f850-4103-946e-cc9b11377543",
    "deepnote_app_coordinates": {
     "h": 5,
     "w": 12,
     "x": 0,
     "y": 30
    },
    "deepnote_cell_type": "markdown",
    "id": "s1Tn8j0m-bAy"
   },
   "source": [
    "## Problem 3 [2p]\n",
    "1. Implement gradient descent\n",
    "2. Train your network to solve 3D XOR\n",
    "3. Try several hidden layer sizes, for each size record the fracton of successful trainings. Then answer:\n",
    "    - What is the minimal hidden size required to solve 3D XOR (even with low reliability, when the training has to be repeated multiple times)\n",
    "    - What is the minimal hidden size required to reliably solve 3D XOR\n",
    "    - Which networks are easier to train - small or large ones? Why?\n"
   ]
  },
  {
   "cell_type": "markdown",
   "metadata": {
    "cell_id": "00006-94cc4eb9-0202-4308-9a9e-007db44a6a98",
    "deepnote_app_coordinates": {
     "h": 5,
     "w": 12,
     "x": 0,
     "y": 36
    },
    "deepnote_cell_type": "markdown",
    "id": "RP9Pvpmf-a2A"
   },
   "source": [
    "## Problem 4 [1p]\n",
    "Replace the first nonlinearity with the [ReLU](https://en.wikipedia.org/wiki/Rectifier_(neural_networks)) activation function. Find a network architecture which reliably learns the 3D XOR problem.\n"
   ]
  },
  {
   "cell_type": "markdown",
   "metadata": {
    "cell_id": "00007-9e6e984c-5131-4333-837b-7e57c4bfb650",
    "deepnote_app_coordinates": {
     "h": 5,
     "w": 12,
     "x": 0,
     "y": 42
    },
    "deepnote_cell_type": "markdown",
    "id": "cGgtpe-w-asB"
   },
   "source": [
    "## Problem 5 [1p]\n",
    "Add a second hidden layer to your network, implement the forward and backward pass, then demonstrate training.\n"
   ]
  },
  {
   "cell_type": "markdown",
   "metadata": {
    "cell_id": "00008-86ea4bdd-83dc-4197-baad-d216fbacc786",
    "deepnote_app_coordinates": {
     "h": 5,
     "w": 12,
     "x": 0,
     "y": 48
    },
    "deepnote_cell_type": "markdown",
    "id": "Pe-pcFeO-aiE"
   },
   "source": [
    "## Problem 6 [2p]\n",
    "Implement a way to have a _variable number_ of hidden layers. Check how deep sigmoid or ReLU networks you  can train. For simplicity you can assume that all hidden layers have the same number of neurons, and use the same activation function.\n"
   ]
  },
  {
   "cell_type": "markdown",
   "metadata": {},
   "source": [
    "## Problem 7 [2p]\n",
    "Consider the following function $\\boldsymbol f: \\mathbb R^n \\to \\mathbb R^k$:\n",
    "$$ \\hat{\\boldsymbol y} := \\boldsymbol f(\\boldsymbol x\\,;\\,\\,W, \\boldsymbol b) = \\mathrm{softmax}(\\boldsymbol z) \\qquad (\\boldsymbol x \\in \\mathbb R^{n}, \\, W \\in\\mathbb R^{k\\times n}, \\, \\boldsymbol b \\in \\mathbb R^k), $$\n",
    "where $$ \\boldsymbol z = W  \\boldsymbol x + \\boldsymbol b $$\n",
    "and $W, \\boldsymbol b$ are the parameters.\n",
    "\n",
    "Analytically derive the form of the following gradients:\n",
    "\n",
    "$$ \\frac{\\partial \\hat{\\boldsymbol y}}{\\boldsymbol z} = \\ldots $$\n",
    "\n",
    "$$ \\frac{\\partial \\hat{\\boldsymbol y}}{W_{ij}} = \\ldots $$\n",
    "\n",
    "$$ \\frac{\\partial \\hat{\\boldsymbol y}}{\\boldsymbol b} = \\ldots $$"
   ]
  },
  {
   "cell_type": "markdown",
   "metadata": {
    "cell_id": "00010-954fd65b-4d81-4bbc-bf6b-4d10d50be9b8",
    "deepnote_app_coordinates": {
     "h": 5,
     "w": 12,
     "x": 0,
     "y": 60
    },
    "deepnote_cell_type": "markdown",
    "id": "rXJaoHSH0DZO"
   },
   "source": [
    "# Solutions and starter code"
   ]
  },
  {
   "cell_type": "code",
   "execution_count": 3,
   "metadata": {
    "ExecuteTime": {
     "end_time": "2024-02-17T11:44:28.263962Z",
     "start_time": "2024-02-17T11:44:27.307173Z"
    },
    "cell_id": "00011-97f2c7fe-a3d5-4a6b-bc12-8a96bfeed475",
    "deepnote_app_coordinates": {
     "h": 5,
     "w": 12,
     "x": 0,
     "y": 66
    },
    "deepnote_cell_type": "code",
    "id": "YiTEWD2oqW0Y"
   },
   "outputs": [],
   "source": [
    "import matplotlib.pyplot as plt\n",
    "import torch"
   ]
  },
  {
   "cell_type": "markdown",
   "metadata": {
    "cell_id": "00012-8bc44e88-e665-483d-89fc-c866879ad335",
    "deepnote_app_coordinates": {
     "h": 5,
     "w": 12,
     "x": 0,
     "y": 72
    },
    "deepnote_cell_type": "markdown",
    "id": "eqtfJKR40J3x"
   },
   "source": [
    "XOR dataset creation"
   ]
  },
  {
   "cell_type": "code",
   "execution_count": 68,
   "metadata": {
    "ExecuteTime": {
     "end_time": "2024-02-17T11:46:08.448211Z",
     "start_time": "2024-02-17T11:46:08.287486Z"
    }
   },
   "outputs": [
    {
     "data": {
      "text/plain": [
       "(-105.05, 6.049999999999997, -5.0, 106.1)"
      ]
     },
     "execution_count": 68,
     "metadata": {},
     "output_type": "execute_result"
    },
    {
     "data": {
      "image/png": "[encoded data removed]",
      "text/plain": [
       "<Figure size 640x480 with 1 Axes>"
      ]
     },
     "metadata": {},
     "output_type": "display_data"
    }
   ],
   "source": [
    "# Let's define a XOR dataset\n",
    "\n",
    "# X will be matrix of N 2-dimensional inputs\n",
    "X = torch.tensor([[0, 0], [0, 1], [1, 0], [1, 1], [-100, 100], [-1, 100],], dtype=torch.float32)\n",
    "# Y is a matrix of N numners - answers\n",
    "Y = torch.tensor([[0], [1], [1], [0], [1], [1],], dtype=torch.float32)\n",
    "\n",
    "plt.scatter(\n",
    "    X[:, 0], X[:, 1], c=Y[:, 0],\n",
    ")\n",
    "plt.xlabel(\"X[0]\")\n",
    "plt.ylabel(\"X[1]\")\n",
    "plt.axis(\"square\")"
   ]
  },
  {
   "cell_type": "markdown",
   "metadata": {
    "cell_id": "00014-fe501b87-4247-497d-a7c7-f528483d31cc",
    "deepnote_app_coordinates": {
     "h": 5,
     "w": 12,
     "x": 0,
     "y": 84
    },
    "deepnote_cell_type": "markdown",
    "id": "Rb3azMn929_I"
   },
   "source": [
    "## Problem 1"
   ]
  },
  {
   "cell_type": "markdown",
   "metadata": {
    "cell_id": "00015-97a3483d-0ae6-4bee-afd5-6226abc622a5",
    "deepnote_app_coordinates": {
     "h": 5,
     "w": 12,
     "x": 0,
     "y": 90
    },
    "deepnote_cell_type": "markdown",
    "id": "RZCM_hdELE04"
   },
   "source": [
    "The code below contains a mock-up of a two-layer neural network. Fill in the code and manually set weights to solve the XOR problem.\n",
    "\n",
    "Please note: the shapes are set to be compatible with PyTorch's conventions:\n",
    "* a batch containing $N$ $D$-dimensional examples has shape $N\\times D$ (each example is a row!)\n",
    "* a weight matrix in a linear layer with $I$ inputs and $O$ outputs has shape $O \\times I$\n",
    "* a bias vector is a 1D vector. Please note that [broadcasting rules](https://docs.scipy.org/doc/numpy/user/basics.broadcasting.html) allow us to think about it as a $1 \\times D$ matrix."
   ]
  },
  {
   "cell_type": "code",
   "execution_count": 73,
   "metadata": {
    "cell_id": "00016-87dd53c6-4f21-4286-8a85-61c2a92fa819",
    "deepnote_app_coordinates": {
     "h": 5,
     "w": 12,
     "x": 0,
     "y": 96
    },
    "deepnote_cell_type": "code",
    "id": "lrrRuk6zLiF0"
   },
   "outputs": [],
   "source": [
    "def sigmoid(x):\n",
    "    return 1 / (1 + torch.exp(-x))\n",
    "\n",
    "\n",
    "class SmallNet:\n",
    "    def __init__(self, in_features: int, num_hidden: int, dtype=torch.float32):\n",
    "        self.W1 = torch.zeros((num_hidden, in_features), dtype=dtype)\n",
    "        self.b1 = torch.zeros((num_hidden,), dtype=dtype)\n",
    "        self.W2 = torch.zeros((1, num_hidden), dtype=dtype)\n",
    "        self.b2 = torch.zeros((1,), dtype=dtype)\n",
    "        self.init_params()\n",
    "\n",
    "    def init_params(self):\n",
    "        # TODO for Problem 2:\n",
    "        # set all parameters to small random values, e.g. from N(0, 0.5)\n",
    "        pass\n",
    "\n",
    "    def forward(self, X, Y=None, do_backward=False):\n",
    "        # TODO Problem 1: Fill in details of forward propagation\n",
    "\n",
    "        print(X.t())\n",
    "        print(self.W1)\n",
    "        print()\n",
    "        # Input to neurons in 1st layer\n",
    "        A1 = torch.matmul(self.W1, X.t()) + self.b1.view(-1, 1)\n",
    "        print(A1)\n",
    "        # Outputs after the sigmoid non-linearity\n",
    "        O1 = sigmoid(A1)\n",
    "        print(O1)\n",
    "\n",
    "        print()\n",
    "        print(self.W2)\n",
    "        print()\n",
    "        # Inputs to neuron in the second layer\n",
    "        A2 = torch.matmul(self.W2, O1) + self.b2\n",
    "        print(A2)\n",
    "        # Outputs after the sigmoid non-linearity\n",
    "        O2 = sigmoid(A2)\n",
    "        print(O2)\n",
    "\n",
    "        # When Y is none, simply return the predictions. Else compute the loss\n",
    "        if Y is not None:\n",
    "            loss = torch.nn.functional.binary_cross_entropy(O2, Y.view(-1)) if Y is not None else torch.nan\n",
    "            # normalize loss by batch size\n",
    "            loss = loss.sum() / X.shape[0]\n",
    "        else:\n",
    "            loss = torch.nan\n",
    "\n",
    "        if do_backward:\n",
    "            # # TODO in Problem 2:\n",
    "            # # fill in the gradient computation\n",
    "            # # Please note, that there is a correspondance between\n",
    "            # # the forward and backward pass: with backward computations happening\n",
    "            # # in reverse order.\n",
    "            # # We save the gradients with respect to the parameters as fields of self.\n",
    "            # # It is not very elegant, but simplifies training code later on.\n",
    "\n",
    "            # # A2_grad is the gradient of loss with respect to A2\n",
    "            # # Hint: there is a concise formula for the gradient\n",
    "            # # of logistic sigmoid and cross-entropy loss\n",
    "            # A2_grad = TODO\n",
    "            # self.b2_grad = A2_grad.sum(0)\n",
    "            # self.W2_grad = TODO\n",
    "            # O1_grad = TODO\n",
    "            # A1_grad = TODO\n",
    "            # self.b1_grad = TODO\n",
    "            # self.W1_grad = TODO\n",
    "            pass\n",
    "\n",
    "        return O2, loss"
   ]
  },
  {
   "cell_type": "code",
   "execution_count": 76,
   "metadata": {
    "cell_id": "00017-32ce9293-0a37-4397-aeac-25eef428e8d4",
    "colab": {
     "base_uri": "https://localhost:8080/"
    },
    "deepnote_app_coordinates": {
     "h": 5,
     "w": 12,
     "x": 0,
     "y": 102
    },
    "deepnote_cell_type": "code",
    "id": "jJswvBk0oiIY",
    "outputId": "e6559317-7afa-4509-fbac-4880e73b91cc"
   },
   "outputs": [
    {
     "name": "stdout",
     "output_type": "stream",
     "text": [
      "tensor([[   0.,    0.,    1.,    1., -100.,   -1.],\n",
      "        [   0.,    1.,    0.,    1.,  100.,  100.]])\n",
      "tensor([[ 200.,  200.],\n",
      "        [-100., -100.]])\n",
      "\n",
      "tensor([[ -100.,   100.,   100.,   300.,  -100., 19700.],\n",
      "        [  150.,    50.,    50.,   -50.,   150., -9750.]])\n",
      "tensor([[0.0000e+00, 1.0000e+00, 1.0000e+00, 1.0000e+00, 0.0000e+00, 1.0000e+00],\n",
      "        [1.0000e+00, 1.0000e+00, 1.0000e+00, 1.9287e-22, 1.0000e+00, 0.0000e+00]])\n",
      "\n",
      "tensor([80., 80.])\n",
      "\n",
      "tensor([-20.,  60.,  60., -20., -20., -20.])\n",
      "tensor([2.0612e-09, 1.0000e+00, 1.0000e+00, 2.0612e-09, 2.0612e-09, 2.0612e-09])\n",
      "XORnet(tensor([0., 0.])) = 0.0\n",
      "XORnet(tensor([0., 1.])) = 1.0\n",
      "XORnet(tensor([1., 0.])) = 1.0\n",
      "XORnet(tensor([1., 1.])) = 0.0\n",
      "XORnet(tensor([-100.,  100.])) = 0.0\n",
      "XORnet(tensor([ -1., 100.])) = 0.0\n"
     ]
    }
   ],
   "source": [
    "# TODO Problem 1:\n",
    "# Set by hand the weight values to solve the XOR problem\n",
    "\n",
    "net = SmallNet(2, 2, dtype=torch.float32)\n",
    "net.W1 = torch.tensor([\n",
    "    [200, 200],\n",
    "    [-100, -100]\n",
    "], dtype=torch.float32)\n",
    "net.b1 = torch.tensor([-100, 150], dtype=torch.float32) # 150 zamiast 200, zeby dla 1 i 1 bylo cos ponizej 0 \n",
    "net.W2 = torch.tensor([80, 80], dtype=torch.float32) # 80 i 80 zamiast 100 i 100, zeby dla 0 i 1 bylo cos ponizej 0\n",
    "net.b2 = torch.tensor(-100, dtype=torch.float32)\n",
    "\n",
    "# net = SmallNet(2, 2, dtype=torch.float32)\n",
    "# net.W1 = torch.tensor([\n",
    "#     [2000, 2000],\n",
    "#     [2000, 2000]\n",
    "# ], dtype=torch.float32)\n",
    "# net.b1 = torch.tensor([-1000, -3000], dtype=torch.float32)\n",
    "# net.W2 = torch.tensor([2000, -2000], dtype=torch.float32)\n",
    "# net.b2 = torch.tensor(-1000, dtype=torch.float32)\n",
    "\n",
    "# Hint: since we use the logistic sigmoid activation, the weights may need to\n",
    "# be fairly large\n",
    "\n",
    "\n",
    "predictions, loss = net.forward(X, Y, do_backward=True)\n",
    "for x, p in zip(X, predictions):\n",
    "    print(f\"XORnet({x}) = {round(p.item(), 5)}\") #zmiana z p[0] oraz dodanie round()"
   ]
  },
  {
   "cell_type": "markdown",
   "metadata": {
    "cell_id": "00018-9f8740d2-90e7-4d20-a535-002df8547aba",
    "deepnote_app_coordinates": {
     "h": 5,
     "w": 12,
     "x": 0,
     "y": 108
    },
    "deepnote_cell_type": "markdown",
    "id": "wmxCi5Vl6_xB"
   },
   "source": [
    "## Problem 2"
   ]
  },
  {
   "cell_type": "code",
   "execution_count": null,
   "metadata": {
    "cell_id": "00019-8f804996-a00a-4bb5-a524-ad056659e023",
    "deepnote_app_coordinates": {
     "h": 5,
     "w": 12,
     "x": 0,
     "y": 114
    },
    "deepnote_cell_type": "code",
    "id": "eSM5hgJ1mrhY"
   },
   "outputs": [],
   "source": [
    "def check_grad(net, param_name, X, Y, eps=1e-5):\n",
    "    \"\"\"A gradient checking routine\"\"\"\n",
    "\n",
    "    param = getattr(net, param_name)\n",
    "    param_flat_accessor = param.reshape(-1)\n",
    "\n",
    "    grad = torch.empty_like(param)\n",
    "    grad_flat_accessor = grad.reshape(-1)\n",
    "\n",
    "    net.forward(X, Y, do_backward=True)\n",
    "    orig_grad = getattr(net, param_name + \"_grad\")\n",
    "    assert param.shape == orig_grad.shape\n",
    "\n",
    "    for i in range(param_flat_accessor.shape[0]):\n",
    "        orig_val = param_flat_accessor[i]\n",
    "        param_flat_accessor[i] = orig_val + eps\n",
    "        _, loss_positive = net.forward(X, Y)\n",
    "        param_flat_accessor[i] = orig_val - eps\n",
    "        _, loss_negative = net.forward(X, Y)\n",
    "        param_flat_accessor[i] = orig_val\n",
    "        grad_flat_accessor[i] = (loss_positive - loss_negative) / (2 * eps)\n",
    "    assert torch.allclose(grad, orig_grad)\n",
    "    return grad, orig_grad"
   ]
  },
  {
   "cell_type": "code",
   "execution_count": null,
   "metadata": {
    "cell_id": "00020-1c4174cf-f129-4cad-adad-4734810a8ce1",
    "deepnote_app_coordinates": {
     "h": 5,
     "w": 12,
     "x": 0,
     "y": 120
    },
    "deepnote_cell_type": "code",
    "id": "TTZu0jFEvgXF"
   },
   "outputs": [],
   "source": [
    "# Hint: use float64 for checking the correctness of the gradient\n",
    "net = SmallNet(2, 2, dtype=torch.float64)\n",
    "\n",
    "for param_name in [\"W1\", \"b1\", \"W2\", \"b2\"]:\n",
    "    check_grad(net, param_name, X, Y)"
   ]
  },
  {
   "cell_type": "markdown",
   "metadata": {
    "cell_id": "00021-145837f8-c83f-4aab-8e62-0114e59f30fe",
    "deepnote_app_coordinates": {
     "h": 5,
     "w": 12,
     "x": 0,
     "y": 126
    },
    "deepnote_cell_type": "markdown",
    "id": "8mUOs3cVvjM2"
   },
   "source": [
    "## Problem 3"
   ]
  },
  {
   "cell_type": "code",
   "execution_count": null,
   "metadata": {
    "cell_id": "00022-91b3eba0-6025-4839-847c-f5cb275fad07",
    "colab": {
     "base_uri": "https://localhost:8080/"
    },
    "deepnote_app_coordinates": {
     "h": 5,
     "w": 12,
     "x": 0,
     "y": 132
    },
    "deepnote_cell_type": "code",
    "id": "nn2AAoZo0vjU",
    "outputId": "7b6b5a9a-dea5-4357-e8c1-36a34c7c272a"
   },
   "outputs": [],
   "source": [
    "net = SmallNet(2, 10, dtype=torch.float64)\n",
    "\n",
    "alpha = TODO  # set a learning rate\n",
    "\n",
    "for i in range(100000):\n",
    "    _, loss = net.forward(X, Y, do_backward=True)\n",
    "    if (i % 5000) == 0:\n",
    "        print(f\"after {i} steps \\tloss={loss}\")\n",
    "    for param_name in [\"W1\", \"b1\", \"W2\", \"b2\"]:\n",
    "        param = getattr(net, param_name)\n",
    "        # Hint: use the construct `param[:]` to change the contents of the array!\n",
    "        # Doing instead `param = new_val` simply changes to what the variable\n",
    "        # param points to, without affecting the network!\n",
    "        # alternatively, you could do setattr(net, param_name, new_value)\n",
    "        param[:] = TODO"
   ]
  },
  {
   "cell_type": "code",
   "execution_count": null,
   "metadata": {
    "cell_id": "00023-c92941a8-24d1-46e8-a410-d189c1d87b08",
    "colab": {
     "base_uri": "https://localhost:8080/"
    },
    "deepnote_app_coordinates": {
     "h": 5,
     "w": 12,
     "x": 0,
     "y": 138
    },
    "deepnote_cell_type": "code",
    "id": "TwpEjpkU1JvK",
    "outputId": "dc044de9-81c1-4944-d9a2-5dcc72bf9a57"
   },
   "outputs": [],
   "source": [
    "predictions, loss = net.forward(X, Y, do_backward=True)\n",
    "for x, p in zip(X, predictions):\n",
    "    print(f\"XORnet({x}) = {p[0]}\")"
   ]
  },
  {
   "cell_type": "code",
   "execution_count": null,
   "metadata": {
    "cell_id": "00024-e09655a3-84e1-4a43-9b61-00edb56c6054",
    "deepnote_app_coordinates": {
     "h": 5,
     "w": 12,
     "x": 0,
     "y": 144
    },
    "deepnote_cell_type": "code",
    "id": "U0ZMyHqz8xrC"
   },
   "outputs": [],
   "source": [
    "# TODO:\n",
    "# Generate data for a 3D XOR task\n",
    "# Then estimate the success rate of training the network with diferent\n",
    "# hidden sizes.\n",
    "\n",
    "X3 = TODO\n",
    "Y3 = TODO\n",
    "\n",
    "for hidden_dim in [2, 3, 5, 10, 20]:\n",
    "    # TODO: run a few trainings and record the fraction of successful ones\n",
    "    pass"
   ]
  },
  {
   "cell_type": "markdown",
   "metadata": {
    "cell_id": "00025-9703bd09-6aae-4830-8221-09b53a623e4b",
    "deepnote_app_coordinates": {
     "h": 5,
     "w": 12,
     "x": 0,
     "y": 150
    },
    "deepnote_cell_type": "markdown",
    "id": "UuaLEoV-9DLG"
   },
   "source": [
    "## Problem 4\n"
   ]
  },
  {
   "cell_type": "code",
   "execution_count": null,
   "metadata": {
    "cell_id": "00026-1a2be430-91e0-4209-ab3f-9ef84c39513b",
    "deepnote_app_coordinates": {
     "h": 5,
     "w": 12,
     "x": 0,
     "y": 156
    },
    "deepnote_cell_type": "code",
    "id": "w3lk9_TM-MvK"
   },
   "outputs": [],
   "source": []
  },
  {
   "cell_type": "markdown",
   "metadata": {
    "cell_id": "00027-de8a387d-3b6a-48d5-b6c8-fddf13637e38",
    "deepnote_app_coordinates": {
     "h": 5,
     "w": 12,
     "x": 0,
     "y": 162
    },
    "deepnote_cell_type": "markdown",
    "id": "_Hr_iAKX-ND1"
   },
   "source": [
    "## Problem 5"
   ]
  },
  {
   "cell_type": "code",
   "execution_count": null,
   "metadata": {
    "cell_id": "00028-0aa6ea62-907d-44bf-9ba4-71870d3dd547",
    "deepnote_app_coordinates": {
     "h": 5,
     "w": 12,
     "x": 0,
     "y": 168
    },
    "deepnote_cell_type": "code",
    "id": "rnz6CndQ-NRI"
   },
   "outputs": [],
   "source": []
  },
  {
   "cell_type": "markdown",
   "metadata": {
    "cell_id": "00029-1de44bc6-5f35-4df3-af9a-408291ccc867",
    "deepnote_app_coordinates": {
     "h": 5,
     "w": 12,
     "x": 0,
     "y": 174
    },
    "deepnote_cell_type": "markdown",
    "id": "4PcNxrCt-NcN"
   },
   "source": [
    "## Problem 6"
   ]
  },
  {
   "cell_type": "code",
   "execution_count": null,
   "metadata": {
    "cell_id": "00030-fdaced74-34ab-4cfc-8fa2-f3a0b012fbf2",
    "deepnote_app_coordinates": {
     "h": 5,
     "w": 12,
     "x": 0,
     "y": 180
    },
    "deepnote_cell_type": "code",
    "id": "6Brepirl-Nln"
   },
   "outputs": [],
   "source": []
  },
  {
   "cell_type": "markdown",
   "metadata": {
    "cell_id": "00031-032edb86-1c56-46e7-8ea3-3e011d72bf5f",
    "deepnote_app_coordinates": {
     "h": 5,
     "w": 12,
     "x": 0,
     "y": 186
    },
    "deepnote_cell_type": "markdown",
    "id": "nWuv7Q77-Nut"
   },
   "source": [
    "## Problem 7"
   ]
  },
  {
   "cell_type": "code",
   "execution_count": null,
   "metadata": {
    "cell_id": "00032-2eab2b1a-f83b-409c-a066-1642cd2ab2d8",
    "deepnote_app_coordinates": {
     "h": 5,
     "w": 12,
     "x": 0,
     "y": 192
    },
    "deepnote_cell_type": "code",
    "id": "avuvSoWY-N4Z"
   },
   "outputs": [],
   "source": []
  }
 ],
 "metadata": {
  "colab": {
   "collapsed_sections": [],
   "include_colab_link": true,
   "name": "Assignment1.ipynb",
   "provenance": []
  },
  "deepnote": {},
  "deepnote_app_layout": "article",
  "deepnote_execution_queue": [],
  "deepnote_notebook_id": "1f038069-bae5-44e5-92ba-67bdff2c54a6",
  "kernelspec": {
   "display_name": "Python 3 (ipykernel)",
   "language": "python",
   "name": "python3"
  },
  "language_info": {
   "codemirror_mode": {
    "name": "ipython",
    "version": 3
   },
   "file_extension": ".py",
   "mimetype": "text/x-python",
   "name": "python",
   "nbconvert_exporter": "python",
   "pygments_lexer": "ipython3",
   "version": "3.10.12"
  }
 },
 "nbformat": 4,
 "nbformat_minor": 4
}
